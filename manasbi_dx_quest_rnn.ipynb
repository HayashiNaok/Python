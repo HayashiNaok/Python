{
 "cells": [
  {
   "cell_type": "markdown",
   "id": "50c6f876",
   "metadata": {},
   "source": [
    "### RNNで実装したとき"
   ]
  },
  {
   "cell_type": "code",
   "execution_count": 37,
   "id": "901d8991",
   "metadata": {},
   "outputs": [],
   "source": [
    "import numpy as np\n",
    "import pandas as pd\n",
    "from keras.models import Sequential\n",
    "from keras.layers import *\n",
    "from keras.callbacks import EarlyStopping\n",
    "from tensorflow.keras.utils import plot_model\n",
    "from sklearn.preprocessing import MinMaxScaler\n",
    "from sklearn.metrics import mean_absolute_error\n",
    "from sklearn.metrics import mean_squared_error\n",
    "from sklearn.metrics import mean_absolute_percentage_error\n",
    "import matplotlib.pyplot as plt"
   ]
  },
  {
   "cell_type": "code",
   "execution_count": 38,
   "id": "0f850f7d",
   "metadata": {},
   "outputs": [],
   "source": [
    "ad = pd.read_csv(\"入場者数_編集.csv\")\n",
    "ad.columns = ['ds','y']"
   ]
  },
  {
   "cell_type": "code",
   "execution_count": 39,
   "id": "c9892c0c",
   "metadata": {},
   "outputs": [
    {
     "name": "stdout",
     "output_type": "stream",
     "text": [
      "<class 'pandas.core.frame.DataFrame'>\n",
      "RangeIndex: 2040 entries, 0 to 2039\n",
      "Data columns (total 2 columns):\n",
      " #   Column  Non-Null Count  Dtype         \n",
      "---  ------  --------------  -----         \n",
      " 0   ds      2040 non-null   datetime64[ns]\n",
      " 1   y       2040 non-null   int64         \n",
      "dtypes: datetime64[ns](1), int64(1)\n",
      "memory usage: 32.0 KB\n"
     ]
    },
    {
     "data": {
      "text/html": [
       "<div>\n",
       "<style scoped>\n",
       "    .dataframe tbody tr th:only-of-type {\n",
       "        vertical-align: middle;\n",
       "    }\n",
       "\n",
       "    .dataframe tbody tr th {\n",
       "        vertical-align: top;\n",
       "    }\n",
       "\n",
       "    .dataframe thead th {\n",
       "        text-align: right;\n",
       "    }\n",
       "</style>\n",
       "<table border=\"1\" class=\"dataframe\">\n",
       "  <thead>\n",
       "    <tr style=\"text-align: right;\">\n",
       "      <th></th>\n",
       "      <th>ds</th>\n",
       "      <th>y</th>\n",
       "    </tr>\n",
       "  </thead>\n",
       "  <tbody>\n",
       "    <tr>\n",
       "      <th>0</th>\n",
       "      <td>2016-04-01</td>\n",
       "      <td>125</td>\n",
       "    </tr>\n",
       "    <tr>\n",
       "      <th>1</th>\n",
       "      <td>2016-04-02</td>\n",
       "      <td>502</td>\n",
       "    </tr>\n",
       "    <tr>\n",
       "      <th>2</th>\n",
       "      <td>2016-04-03</td>\n",
       "      <td>318</td>\n",
       "    </tr>\n",
       "    <tr>\n",
       "      <th>3</th>\n",
       "      <td>2016-04-04</td>\n",
       "      <td>190</td>\n",
       "    </tr>\n",
       "    <tr>\n",
       "      <th>4</th>\n",
       "      <td>2016-04-05</td>\n",
       "      <td>298</td>\n",
       "    </tr>\n",
       "    <tr>\n",
       "      <th>...</th>\n",
       "      <td>...</td>\n",
       "      <td>...</td>\n",
       "    </tr>\n",
       "    <tr>\n",
       "      <th>2035</th>\n",
       "      <td>2021-10-27</td>\n",
       "      <td>104</td>\n",
       "    </tr>\n",
       "    <tr>\n",
       "      <th>2036</th>\n",
       "      <td>2021-10-28</td>\n",
       "      <td>138</td>\n",
       "    </tr>\n",
       "    <tr>\n",
       "      <th>2037</th>\n",
       "      <td>2021-10-29</td>\n",
       "      <td>98</td>\n",
       "    </tr>\n",
       "    <tr>\n",
       "      <th>2038</th>\n",
       "      <td>2021-10-30</td>\n",
       "      <td>208</td>\n",
       "    </tr>\n",
       "    <tr>\n",
       "      <th>2039</th>\n",
       "      <td>2021-10-31</td>\n",
       "      <td>203</td>\n",
       "    </tr>\n",
       "  </tbody>\n",
       "</table>\n",
       "<p>2040 rows × 2 columns</p>\n",
       "</div>"
      ],
      "text/plain": [
       "             ds    y\n",
       "0    2016-04-01  125\n",
       "1    2016-04-02  502\n",
       "2    2016-04-03  318\n",
       "3    2016-04-04  190\n",
       "4    2016-04-05  298\n",
       "...         ...  ...\n",
       "2035 2021-10-27  104\n",
       "2036 2021-10-28  138\n",
       "2037 2021-10-29   98\n",
       "2038 2021-10-30  208\n",
       "2039 2021-10-31  203\n",
       "\n",
       "[2040 rows x 2 columns]"
      ]
     },
     "execution_count": 39,
     "metadata": {},
     "output_type": "execute_result"
    }
   ],
   "source": [
    "ad['ds'] = pd.to_datetime(ad['ds'])\n",
    "ad.info()\n",
    "ad"
   ]
  },
  {
   "cell_type": "code",
   "execution_count": 40,
   "id": "a7f50057",
   "metadata": {},
   "outputs": [
    {
     "data": {
      "text/html": [
       "<div>\n",
       "<style scoped>\n",
       "    .dataframe tbody tr th:only-of-type {\n",
       "        vertical-align: middle;\n",
       "    }\n",
       "\n",
       "    .dataframe tbody tr th {\n",
       "        vertical-align: top;\n",
       "    }\n",
       "\n",
       "    .dataframe thead th {\n",
       "        text-align: right;\n",
       "    }\n",
       "</style>\n",
       "<table border=\"1\" class=\"dataframe\">\n",
       "  <thead>\n",
       "    <tr style=\"text-align: right;\">\n",
       "      <th></th>\n",
       "      <th>ds</th>\n",
       "      <th>y</th>\n",
       "    </tr>\n",
       "  </thead>\n",
       "  <tbody>\n",
       "    <tr>\n",
       "      <th>0</th>\n",
       "      <td>2016-04-01</td>\n",
       "      <td>125</td>\n",
       "    </tr>\n",
       "    <tr>\n",
       "      <th>1</th>\n",
       "      <td>2016-04-02</td>\n",
       "      <td>502</td>\n",
       "    </tr>\n",
       "    <tr>\n",
       "      <th>2</th>\n",
       "      <td>2016-04-03</td>\n",
       "      <td>318</td>\n",
       "    </tr>\n",
       "    <tr>\n",
       "      <th>3</th>\n",
       "      <td>2016-04-04</td>\n",
       "      <td>190</td>\n",
       "    </tr>\n",
       "    <tr>\n",
       "      <th>4</th>\n",
       "      <td>2016-04-05</td>\n",
       "      <td>298</td>\n",
       "    </tr>\n",
       "    <tr>\n",
       "      <th>...</th>\n",
       "      <td>...</td>\n",
       "      <td>...</td>\n",
       "    </tr>\n",
       "    <tr>\n",
       "      <th>1365</th>\n",
       "      <td>2019-12-27</td>\n",
       "      <td>78</td>\n",
       "    </tr>\n",
       "    <tr>\n",
       "      <th>1366</th>\n",
       "      <td>2019-12-28</td>\n",
       "      <td>191</td>\n",
       "    </tr>\n",
       "    <tr>\n",
       "      <th>1367</th>\n",
       "      <td>2019-12-29</td>\n",
       "      <td>0</td>\n",
       "    </tr>\n",
       "    <tr>\n",
       "      <th>1368</th>\n",
       "      <td>2019-12-30</td>\n",
       "      <td>0</td>\n",
       "    </tr>\n",
       "    <tr>\n",
       "      <th>1369</th>\n",
       "      <td>2019-12-31</td>\n",
       "      <td>0</td>\n",
       "    </tr>\n",
       "  </tbody>\n",
       "</table>\n",
       "<p>1370 rows × 2 columns</p>\n",
       "</div>"
      ],
      "text/plain": [
       "             ds    y\n",
       "0    2016-04-01  125\n",
       "1    2016-04-02  502\n",
       "2    2016-04-03  318\n",
       "3    2016-04-04  190\n",
       "4    2016-04-05  298\n",
       "...         ...  ...\n",
       "1365 2019-12-27   78\n",
       "1366 2019-12-28  191\n",
       "1367 2019-12-29    0\n",
       "1368 2019-12-30    0\n",
       "1369 2019-12-31    0\n",
       "\n",
       "[1370 rows x 2 columns]"
      ]
     },
     "execution_count": 40,
     "metadata": {},
     "output_type": "execute_result"
    }
   ],
   "source": [
    "ad = ad.drop(range(1370,2040))\n",
    "ad"
   ]
  },
  {
   "cell_type": "code",
   "execution_count": 42,
   "id": "d82153ad",
   "metadata": {},
   "outputs": [
    {
     "data": {
      "image/png": "[encoded data removed]",
      "text/plain": [
       "<Figure size 432x288 with 1 Axes>"
      ]
     },
     "metadata": {
      "needs_background": "light"
     },
     "output_type": "display_data"
    }
   ],
   "source": [
    "plt.plot(ad['ds'],ad['y'])\n",
    "plt.title(\"入場者数の分布\",fontname=\"MS Gothic\")\n",
    "plt.legend([\"入場者数(合計)\"], prop={\"family\":\"MS Gothic\"})\n",
    "plt.xticks(rotation=45)\n",
    "plt.show()"
   ]
  },
  {
   "cell_type": "markdown",
   "id": "613dc840",
   "metadata": {},
   "source": [
    "### RNNで予測をしてみる\n",
    "\n",
    "学習データと評価データは時系列分析と同じである"
   ]
  },
  {
   "cell_type": "code",
   "execution_count": 43,
   "id": "3cc3da51",
   "metadata": {},
   "outputs": [
    {
     "data": {
      "text/plain": [
       "array([[125.],\n",
       "       [502.],\n",
       "       [318.],\n",
       "       ...,\n",
       "       [  0.],\n",
       "       [  0.],\n",
       "       [  0.]], dtype=float32)"
      ]
     },
     "execution_count": 43,
     "metadata": {},
     "output_type": "execute_result"
    }
   ],
   "source": [
    "# 変換\n",
    "dataset = ad.y.values #NumPy配列へ変換\n",
    "dataset = dataset.astype('float32')    #実数型へ変換\n",
    "dataset = np.reshape(dataset, (-1, 1)) #1次元配列を2次元配列へ変換\n",
    "dataset #確認"
   ]
  },
  {
   "cell_type": "code",
   "execution_count": 44,
   "id": "1667c611",
   "metadata": {},
   "outputs": [],
   "source": [
    "# ラグ付きデータセット生成関数\n",
    "def gen_dataset(dataset, lag_max):\n",
    "    X, y = [], []\n",
    "    for i in range(len(dataset) - lag_max):\n",
    "        a = i + lag_max\n",
    "        X.append(dataset[i:a, 0]) #ラグ変数\n",
    "        y.append(dataset[a, 0])   #目的変数\n",
    "    return np.array(X), np.array(y)"
   ]
  },
  {
   "cell_type": "code",
   "execution_count": 45,
   "id": "9e176413",
   "metadata": {},
   "outputs": [
    {
     "name": "stdout",
     "output_type": "stream",
     "text": [
      "X: (1005, 365)\n",
      "y: (1005,)\n"
     ]
    }
   ],
   "source": [
    "# ラグ付きデータセットの生成\n",
    "lag_max = 365\n",
    "X, y = gen_dataset(dataset, lag_max)\n",
    "print('X:',X.shape) #確認\n",
    "print('y:',y.shape) #確認"
   ]
  },
  {
   "cell_type": "code",
   "execution_count": 55,
   "id": "95f904cf",
   "metadata": {},
   "outputs": [
    {
     "data": {
      "text/plain": [
       "array([295., 447., 278., ...,   0.,   0.,   0.], dtype=float32)"
      ]
     },
     "execution_count": 55,
     "metadata": {},
     "output_type": "execute_result"
    }
   ],
   "source": [
    "y"
   ]
  },
  {
   "cell_type": "code",
   "execution_count": 58,
   "id": "3bc29852",
   "metadata": {},
   "outputs": [],
   "source": [
    "test_length = 365\n",
    "X_train_0 = X[:-test_length,:] #学習データ\n",
    "X_test_0 = X[-test_length:,:]  #テストデータ\n",
    "y_train_0 = y[:-test_length] #学習データ\n",
    "y_test_0 = y[-test_length:]  #テストデータ\n",
    "y_train = y_train_0.reshape(-1,1)\n",
    "y_test = y_test_0.reshape(-1,1)"
   ]
  },
  {
   "cell_type": "code",
   "execution_count": 62,
   "id": "c657327b",
   "metadata": {},
   "outputs": [],
   "source": [
    "# 正規化（0-1の範囲にスケーリング）\n",
    "## 目的変数y\n",
    "scaler_y = MinMaxScaler(feature_range=(0, 1))\n",
    "y_train = scaler_y.fit_transform(y_train)\n",
    "## 説明変数X\n",
    "scaler_X = MinMaxScaler(feature_range=(0, 1))\n",
    "X_train_0 = scaler_X.fit_transform(X_train_0)\n",
    "X_test_0 = scaler_X.transform(X_test_0)"
   ]
  },
  {
   "cell_type": "code",
   "execution_count": 63,
   "id": "47c4100e",
   "metadata": {},
   "outputs": [
    {
     "name": "stdout",
     "output_type": "stream",
     "text": [
      "X_train: (640, 1, 365)\n",
      "X_test: (365, 1, 365)\n"
     ]
    }
   ],
   "source": [
    "# モデル構築用にデータを再構成（サンプル数、タイムステップ, 特徴量数）\n",
    "X_train = np.reshape(X_train_0, (X_train_0.shape[0], 1,X_train_0.shape[1]))\n",
    "X_test = np.reshape(X_test_0, (X_test_0.shape[0], 1,X_test_0.shape[1]))\n",
    "print('X_train:',X_train.shape) #確認\n",
    "print('X_test:',X_test.shape) #確認"
   ]
  },
  {
   "cell_type": "code",
   "execution_count": 64,
   "id": "f04a7082",
   "metadata": {},
   "outputs": [
    {
     "name": "stdout",
     "output_type": "stream",
     "text": [
      "You must install pydot (`pip install pydot`) and install graphviz (see instructions at https://graphviz.gitlab.io/download/) for plot_model to work.\n"
     ]
    }
   ],
   "source": [
    "# モデル定義\n",
    "model = Sequential()\n",
    "model.add(SimpleRNN(100,\n",
    "               input_shape=(X_train.shape[1], X_train.shape[2])))\n",
    "model.add(Dropout(0.2))\n",
    "model.add(Dense(1, activation='linear'))\n",
    "# コンパイル\n",
    "model.compile(loss='mean_squared_error', optimizer='adam')\n",
    "# モデルの視覚化\n",
    "plot_model(model,show_shapes=True)"
   ]
  },
  {
   "cell_type": "code",
   "execution_count": 65,
   "id": "4eba3e62",
   "metadata": {},
   "outputs": [
    {
     "name": "stdout",
     "output_type": "stream",
     "text": [
      "Epoch 1/100\n",
      "4/4 [==============================] - 8s 450ms/step - loss: 0.1220 - val_loss: 0.0911\n",
      "Epoch 2/100\n",
      "4/4 [==============================] - 0s 21ms/step - loss: 0.1042 - val_loss: 0.1164\n",
      "Epoch 3/100\n",
      "4/4 [==============================] - 0s 43ms/step - loss: 0.0854 - val_loss: 0.0550\n",
      "Epoch 4/100\n",
      "4/4 [==============================] - 0s 21ms/step - loss: 0.0612 - val_loss: 0.0427\n",
      "Epoch 5/100\n",
      "4/4 [==============================] - 0s 34ms/step - loss: 0.0607 - val_loss: 0.0329\n",
      "Epoch 6/100\n",
      "4/4 [==============================] - 0s 21ms/step - loss: 0.0487 - val_loss: 0.0268\n",
      "Epoch 7/100\n",
      "4/4 [==============================] - 0s 18ms/step - loss: 0.0404 - val_loss: 0.0251\n",
      "Epoch 8/100\n",
      "4/4 [==============================] - 0s 28ms/step - loss: 0.0342 - val_loss: 0.0238\n",
      "Epoch 9/100\n",
      "4/4 [==============================] - 0s 22ms/step - loss: 0.0354 - val_loss: 0.0267\n",
      "Epoch 10/100\n",
      "4/4 [==============================] - 0s 18ms/step - loss: 0.0354 - val_loss: 0.0287\n"
     ]
    }
   ],
   "source": [
    "# EaelyStoppingの設定\n",
    "early_stopping =  EarlyStopping(monitor='val_loss',\n",
    "                                min_delta=0.0,\n",
    "                                patience=2)\n",
    "# 学習の実行\n",
    "history = model.fit(X_train, y_train,\n",
    "                    epochs=100,\n",
    "                    batch_size=128,\n",
    "                    validation_split=0.2,\n",
    "                    callbacks=[early_stopping] ,\n",
    "                    verbose=1, \n",
    "                    shuffle=False)"
   ]
  },
  {
   "cell_type": "code",
   "execution_count": 66,
   "id": "a7582b2e",
   "metadata": {},
   "outputs": [
    {
     "name": "stdout",
     "output_type": "stream",
     "text": [
      "Model: \"sequential_2\"\n",
      "_________________________________________________________________\n",
      " Layer (type)                Output Shape              Param #   \n",
      "=================================================================\n",
      " simple_rnn_2 (SimpleRNN)    (None, 100)               46600     \n",
      "                                                                 \n",
      " dropout_2 (Dropout)         (None, 100)               0         \n",
      "                                                                 \n",
      " dense_2 (Dense)             (None, 1)                 101       \n",
      "                                                                 \n",
      "=================================================================\n",
      "Total params: 46,701\n",
      "Trainable params: 46,701\n",
      "Non-trainable params: 0\n",
      "_________________________________________________________________\n"
     ]
    },
    {
     "data": {
      "image/png": "[encoded data removed]",
      "text/plain": [
       "<Figure size 432x288 with 1 Axes>"
      ]
     },
     "metadata": {
      "needs_background": "light"
     },
     "output_type": "display_data"
    }
   ],
   "source": [
    "# 学習結果の出力\n",
    "model.summary()\n",
    "plt.plot(history.history['loss'], label='Train Loss')\n",
    "plt.plot(history.history['val_loss'], label='valid Loss')\n",
    "plt.title('model loss')\n",
    "plt.ylabel('loss')\n",
    "plt.xlabel('epochs')\n",
    "plt.legend(loc='upper right')\n",
    "plt.show()"
   ]
  },
  {
   "cell_type": "code",
   "execution_count": 67,
   "id": "5b397769",
   "metadata": {},
   "outputs": [
    {
     "name": "stdout",
     "output_type": "stream",
     "text": [
      "12/12 [==============================] - 0s 4ms/step\n",
      "RMSE:\n",
      "246.26912\n",
      "MAE:\n",
      "200.2565\n",
      "MAPE:\n",
      "5112191700000000.0\n"
     ]
    },
    {
     "data": {
      "text/plain": [
       "<AxesSubplot:>"
      ]
     },
     "execution_count": 67,
     "metadata": {},
     "output_type": "execute_result"
    },
    {
     "data": {
      "image/png": "[encoded data removed]",
      "text/plain": [
       "<Figure size 432x288 with 1 Axes>"
      ]
     },
     "metadata": {
      "needs_background": "light"
     },
     "output_type": "display_data"
    }
   ],
   "source": [
    "# テストデータの目的変数を予測\n",
    "y_test_pred = model.predict(X_test)\n",
    "y_test_pred = scaler_y.inverse_transform(y_test_pred)\n",
    "# テストデータの目的変数と予測結果を結合\n",
    "df_test = pd.DataFrame(np.hstack((y_test,y_test_pred)),\n",
    "                       columns=['y','Predict'])\n",
    "# 指標出力\n",
    "print('RMSE:')\n",
    "print(np.sqrt(mean_squared_error(y_test, y_test_pred)))\n",
    "print('MAE:')\n",
    "print(mean_absolute_error(y_test, y_test_pred)) \n",
    "print('MAPE:')\n",
    "print(mean_absolute_percentage_error(y_test, y_test_pred)) \n",
    "# グラフ化\n",
    "df_test.plot(kind='line')"
   ]
  },
  {
   "cell_type": "code",
   "execution_count": null,
   "id": "594a6f38",
   "metadata": {},
   "outputs": [],
   "source": []
  }
 ],
 "metadata": {
  "kernelspec": {
   "display_name": "Python 3 (ipykernel)",
   "language": "python",
   "name": "python3"
  },
  "language_info": {
   "codemirror_mode": {
    "name": "ipython",
    "version": 3
   },
   "file_extension": ".py",
   "mimetype": "text/x-python",
   "name": "python",
   "nbconvert_exporter": "python",
   "pygments_lexer": "ipython3",
   "version": "3.9.12"
  }
 },
 "nbformat": 4,
 "nbformat_minor": 5
}
